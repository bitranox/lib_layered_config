{
  "cells": [
    {
      "cell_type": "code",
      "execution_count": null,
      "metadata": {},
      "outputs": [],
      "source": [
        "# update pip and setuptools\n",
        "import sys\n",
        "!{sys.executable} -m pip install --upgrade pip\n",
        "!{sys.executable} -m pip install --upgrade setuptools\n",
        "# install lib_log_rich from GitHub (default)\n",
        "!{sys.executable} -m pip install --upgrade git+https://github.com/bitranox/lib_log_rich.git\n"
      ]
    },
    {
      "cell_type": "markdown",
      "metadata": {},
      "source": "# lib_layered_config Quickstart\n\nImmutable, layered configuration for Python applications."
    },
    {
      "cell_type": "markdown",
      "metadata": {},
      "source": "## Compute environment prefixes\n\nThe helper `default_env_prefix` converts a slug into the uppercase prefix used for environment variables."
    },
    {
      "cell_type": "code",
      "execution_count": null,
      "metadata": {},
      "outputs": [],
      "source": [
        "from lib_layered_config import default_env_prefix\n",
        "default_env_prefix('demo-config')\n"
      ]
    },
    {
      "cell_type": "markdown",
      "metadata": {},
      "source": "## Generate example files\n\nThe `examples` module scaffolds commented configuration files for each layer. They are never overwritten unless you pass `force=True`."
    },
    {
      "cell_type": "code",
      "execution_count": null,
      "metadata": {},
      "outputs": [],
      "source": [
        "# Windows layout example\n",
        "from lib_layered_config.examples.generate import generate_examples\n",
        "from lib_layered_config.examples.deploy import deploy_config\n",
        "from pathlib import Path\n",
        "import tempfile, os\n",
        "\n",
        "workdir = Path(tempfile.mkdtemp())\n",
        "source = workdir / 'base.toml'\n",
        "source.write_text('[service]\\nendpoint = \"https://api.example.com\"\\n', encoding='utf-8')\n",
        "os.environ['LIB_LAYERED_CONFIG_PROGRAMDATA'] = str(workdir / 'ProgramData')\n",
        "os.environ['LIB_LAYERED_CONFIG_APPDATA'] = str(workdir / 'AppData' / 'Roaming')\n",
        "os.environ['LIB_LAYERED_CONFIG_LOCALAPPDATA'] = str(workdir / 'AppData' / 'Local')\n",
        "paths = generate_examples(workdir, slug='demo-config', vendor='Acme', app='ConfigKit')\n",
        "paths\n"
      ]
    },
    {
      "cell_type": "code",
      "execution_count": null,
      "metadata": {},
      "outputs": [],
      "source": [
        "from lib_layered_config.examples.generate import generate_examples\n",
        "from pathlib import Path\n",
        "import tempfile\n",
        "root = Path(tempfile.mkdtemp())\n",
        "written = generate_examples(root, slug='demo-config', vendor='Acme', app='ConfigKit')\n",
        "[w.relative_to(root) for w in written]\n"
      ]
    },
    {
      "cell_type": "markdown",
      "metadata": {},
      "source": "## Merge all layers\n\nCreate temporary application/user files, a `.env`, and an environment variable to demonstrate precedence."
    },
    {
      "cell_type": "code",
      "execution_count": null,
      "metadata": {},
      "outputs": [],
      "source": [
        "from lib_layered_config import read_config, default_env_prefix\n",
        "from pathlib import Path\n",
        "import tempfile, os\n",
        "workdir = Path(tempfile.mkdtemp())\n",
        "etc_root = workdir / 'etc' / 'demo-config'\n",
        "user_root = workdir / 'xdg' / 'demo-config'\n",
        "etc_root.mkdir(parents=True)\n",
        "(user_root / 'config.d').mkdir(parents=True)\n",
        "(etc_root / 'config.toml').write_text(\"\"\"[service]\n",
        "endpoint = \"https://api.example.com\"\n",
        "\"\"\", encoding='utf-8')\n",
        "(etc_root / 'hosts').mkdir(exist_ok=True)\n",
        "(etc_root / 'hosts' / 'your-hostname.toml').write_text(\"\"\"[service]\n",
        "timeout = 15\n",
        "\"\"\", encoding='utf-8')\n",
        "(user_root / 'config.toml').write_text(\"\"\"[service]\n",
        "timeout = 15\n",
        "\"\"\", encoding='utf-8')\n",
        "(user_root / 'config.d' / '10-override.toml').write_text(\"\"\"[service]\n",
        "retry = 3\n",
        "\"\"\", encoding='utf-8')\n",
        "(user_root / '.env').write_text(\"SERVICE__TIMEOUT=20\n",
        "\", encoding='utf-8')\n",
        "slug = 'demo-config'\n",
        "prefix = default_env_prefix(slug)\n",
        "os.environ['LIB_LAYERED_CONFIG_ETC'] = str(workdir / 'etc')\n",
        "os.environ['XDG_CONFIG_HOME'] = str(workdir / 'xdg')\n",
        "os.environ[f'{prefix}_SERVICE__TIMEOUT'] = '25'\n",
        "config = read_config(vendor='Acme', app='ConfigKit', slug=slug, start_dir=str(user_root))\n",
        "config.as_dict()\n"
      ]
    },
    {
      "cell_type": "markdown",
      "metadata": {},
      "source": [
        "# lib_layered_config Demo\n",
        "Deploys configuration files, reads the merged result, and exercises the CLI."
      ]
    },
    {
      "cell_type": "code",
      "metadata": {},
      "source": [
        "from pathlib import Path\n",
        "from tempfile import TemporaryDirectory\n",
        "import os\n",
        "import json\n",
        "from lib_layered_config import read_config, default_env_prefix, deploy_config, i_should_fail\n",
        "from lib_layered_config.examples import deploy_config as deploy_helper\n"
      ],
      "outputs": [],
      "execution_count": null
    },
    {
      "cell_type": "code",
      "metadata": {},
      "source": [
        "tmp = TemporaryDirectory()\n",
        "base = Path(tmp.name)\n",
        "source = base / 'base.toml'\n",
        "source.write_text('[service]\n",
        "endpoint = \"https://api.example.com\"\n",
        "', encoding='utf-8')\n",
        "etc_root = base / 'etc'\n",
        "xdg_root = base / 'xdg'\n",
        "paths = deploy_helper(source, vendor='Acme', app='Demo', targets=['app', 'user'], slug='demo')\n",
        "paths\n"
      ],
      "outputs": [],
      "execution_count": null
    },
    {
      "cell_type": "code",
      "metadata": {},
      "source": [
        "env_backup = {k: os.environ.get(k) for k in ['LIB_LAYERED_CONFIG_ETC', 'XDG_CONFIG_HOME']}\n",
        "os.environ['LIB_LAYERED_CONFIG_ETC'] = str(etc_root)\n",
        "os.environ['XDG_CONFIG_HOME'] = str(xdg_root)\n",
        "cfg = read_config(vendor='Acme', app='Demo', slug='demo')\n",
        "endpoint = cfg.get('service.endpoint')\n",
        "endpoint\n"
      ],
      "outputs": [],
      "execution_count": null
    },
    {
      "cell_type": "code",
      "metadata": {},
      "source": [
        "import subprocess\n",
        "cmd = [\n",
        "    'python', '-m', 'lib_layered_config', 'read',\n",
        "    '--vendor', 'Acme',\n",
        "    '--app', 'Demo',\n",
        "    '--slug', 'demo',\n",
        "    '--provenance',\n",
        "]\n",
        "result = subprocess.run(cmd, capture_output=True, text=True, env={**os.environ})\n",
        "result.stdout\n"
      ],
      "outputs": [],
      "execution_count": null
    },
    {
      "cell_type": "code",
      "metadata": {},
      "source": [
        "fail_result = subprocess.run(['python', '-m', 'lib_layered_config', 'fail'], capture_output=True, text=True)\n",
        "fail_result.stdout, fail_result.stderr\n"
      ],
      "outputs": [],
      "execution_count": null
    },
    {
      "cell_type": "code",
      "metadata": {},
      "source": [
        "fail_trace = subprocess.run(['python', '-m', 'lib_layered_config', '--traceback', 'fail'], capture_output=True, text=True)\n",
        "fail_trace.stderr\n"
      ],
      "outputs": [],
      "execution_count": null
    },
    {
      "cell_type": "code",
      "metadata": {},
      "source": [
        "for key, value in env_backup.items():\n",
        "    if value is None:\n",
        "        os.environ.pop(key, None)\n",
        "    else:\n",
        "        os.environ[key] = value\n",
        "tmp.cleanup()\n"
      ],
      "outputs": [],
      "execution_count": null
    }
  ],
  "metadata": {
    "kernelspec": {
      "display_name": "Python 3",
      "language": "python",
      "name": "python3"
    },
    "language_info": {
      "name": "python",
      "version": "3.12"
    }
  },
  "nbformat": 4,
  "nbformat_minor": 5
}