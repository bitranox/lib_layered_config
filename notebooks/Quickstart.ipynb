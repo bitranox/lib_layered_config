{
  "cells": [
    {
      "cell_type": "markdown",
      "metadata": {},
      "source": "# lib_layered_config Quickstart\n\nImmutable, layered configuration for Python applications."
    },
    {
      "cell_type": "markdown",
      "metadata": {},
      "source": "## Compute environment prefixes\n\nThe helper `default_env_prefix` converts a slug into the uppercase prefix used for environment variables."
    },
    {
      "cell_type": "code",
      "execution_count": null,
      "metadata": {},
      "outputs": [],
      "source": "from lib_layered_config import default_env_prefix\n\ndefault_env_prefix('demo-config')\n"
    },
    {
      "cell_type": "markdown",
      "metadata": {},
      "source": "## Generate example files\n\nThe `examples` module scaffolds commented configuration files for each layer. They are never overwritten unless you pass `force=True`."
    },
    {
      "cell_type": "code",
      "execution_count": null,
      "metadata": {},
      "outputs": [],
      "source": "from lib_layered_config.examples.generate import generate_examples\nfrom pathlib import Path\nimport tempfile\n\nroot = Path(tempfile.mkdtemp())\nwritten = generate_examples(root, slug='demo-config', vendor='Acme', app='ConfigKit')\n[w.relative_to(root) for w in written]\n"
    },
    {
      "cell_type": "markdown",
      "metadata": {},
      "source": "## Merge all layers\n\nCreate temporary application/user files, a `.env`, and an environment variable to demonstrate precedence."
    },
    {
      "cell_type": "code",
      "execution_count": null,
      "metadata": {},
      "outputs": [],
      "source": "from lib_layered_config import read_config, default_env_prefix\nfrom pathlib import Path\nimport tempfile, os\n\nworkdir = Path(tempfile.mkdtemp())\netc_root = workdir / 'etc' / 'demo-config'\nuser_root = workdir / 'xdg' / 'demo-config'\n\netc_root.mkdir(parents=True)\n(user_root / 'config.d').mkdir(parents=True)\n\n(etc_root / 'config.toml').write_text("""[service]\nendpoint = \"https://api.example.com\"\n""", encoding='utf-8')\n(user_root / 'config.toml').write_text("""[service]\ntimeout = 15\n""", encoding='utf-8')\n(user_root / '.env').write_text('SERVICE__TIMEOUT=20\n', encoding='utf-8')\n\nslug = 'demo-config'\nprefix = default_env_prefix(slug)\nos.environ['LIB_LAYERED_CONFIG_ETC'] = str(workdir / 'etc')\nos.environ['XDG_CONFIG_HOME'] = str(workdir / 'xdg')\nos.environ[f'{prefix}_SERVICE__TIMEOUT'] = '25'\n\nconfig = read_config(vendor='Acme', app='ConfigKit', slug=slug, start_dir=str(user_root))\nconfig.as_dict()\n"
    },
    {
      "cell_type": "markdown",
      "metadata": {},
      "source": [
        "# lib_layered_config Demo\n",
        "Deploys configuration files, reads the merged result, and exercises the CLI."
      ]
    },
    {
      "cell_type": "code",
      "metadata": {},
      "source": [
        "from pathlib import Path",
        "from tempfile import TemporaryDirectory",
        "import os",
        "import json",
        "",
        "from lib_layered_config import read_config, default_env_prefix, deploy_config, i_should_fail",
        "from lib_layered_config.examples import deploy_config as deploy_helper"
      ],
      "outputs": [],
      "execution_count": null
    },
    {
      "cell_type": "code",
      "metadata": {},
      "source": [
        "tmp = TemporaryDirectory()",
        "base = Path(tmp.name)",
        "source = base / 'base.toml'",
        "source.write_text('[service]",
        "endpoint = \"https://api.example.com\"",
        "', encoding='utf-8')",
        "",
        "etc_root = base / 'etc'",
        "xdg_root = base / 'xdg'",
        "paths = deploy_helper(source, vendor='Acme', app='Demo', targets=['app', 'user'], slug='demo')",
        "paths"
      ],
      "outputs": [],
      "execution_count": null
    },
    {
      "cell_type": "code",
      "metadata": {},
      "source": [
        "env_backup = {k: os.environ.get(k) for k in ['LIB_LAYERED_CONFIG_ETC', 'XDG_CONFIG_HOME']}",
        "os.environ['LIB_LAYERED_CONFIG_ETC'] = str(etc_root)",
        "os.environ['XDG_CONFIG_HOME'] = str(xdg_root)",
        "",
        "cfg = read_config(vendor='Acme', app='Demo', slug='demo')",
        "endpoint = cfg.get('service.endpoint')",
        "endpoint"
      ],
      "outputs": [],
      "execution_count": null
    },
    {
      "cell_type": "code",
      "metadata": {},
      "source": [
        "import subprocess",
        "",
        "cmd = [",
        "    'python', '-m', 'lib_layered_config', 'read',",
        "    '--vendor', 'Acme',",
        "    '--app', 'Demo',",
        "    '--slug', 'demo',",
        "    '--provenance',",
        "]",
        "result = subprocess.run(cmd, capture_output=True, text=True, env={**os.environ})",
        "result.stdout"
      ],
      "outputs": [],
      "execution_count": null
    },
    {
      "cell_type": "code",
      "metadata": {},
      "source": [
        "fail_result = subprocess.run(['python', '-m', 'lib_layered_config', 'fail'], capture_output=True, text=True)",
        "fail_result.stdout, fail_result.stderr"
      ],
      "outputs": [],
      "execution_count": null
    },
    {
      "cell_type": "code",
      "metadata": {},
      "source": [
        "fail_trace = subprocess.run(['python', '-m', 'lib_layered_config', '--traceback', 'fail'], capture_output=True, text=True)",
        "fail_trace.stderr"
      ],
      "outputs": [],
      "execution_count": null
    },
    {
      "cell_type": "code",
      "metadata": {},
      "source": [
        "for key, value in env_backup.items():",
        "    if value is None:",
        "        os.environ.pop(key, None)",
        "    else:",
        "        os.environ[key] = value",
        "",
        "tmp.cleanup()"
      ],
      "outputs": [],
      "execution_count": null
    }
  ],
  "metadata": {
    "kernelspec": {
      "display_name": "Python 3",
      "language": "python",
      "name": "python3"
    },
    "language_info": {
      "name": "python",
      "version": "3.12"
    }
  },
  "nbformat": 4,
  "nbformat_minor": 5
}