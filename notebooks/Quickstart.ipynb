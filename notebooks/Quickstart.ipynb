{
 "cells": [
  {
   "cell_type": "markdown",
   "id": "7fb27b941602401d91542211134fc71a",
   "metadata": {},
   "source": [
    "# lib_layered_config Install"
   ]
  },
  {
   "cell_type": "code",
   "execution_count": null,
   "id": "acae54e37e7d407bbb7b55eff062a284",
   "metadata": {},
   "outputs": [],
   "source": [
    "import sys\n",
    "\n",
    "!{sys.executable} -m pip install --upgrade pip\n",
    "!{sys.executable} -m pip install --upgrade setuptools\n",
    "\n",
    "# install lib_log_rich from GitHub (default)\n",
    "!{sys.executable} -m pip install --upgrade git+https://github.com/bitranox/lib_layered_config.git"
   ]
  },
  {
   "cell_type": "markdown",
   "id": "9a63283cbaf04dbcab1f6479b197f3a8",
   "metadata": {},
   "source": [
    "## Compute environment prefixes\n",
    "\n",
    "The helper `default_env_prefix` converts a slug into the uppercase prefix used for environment variables."
   ]
  },
  {
   "cell_type": "code",
   "execution_count": null,
   "id": "8dd0d8092fe74a7c96281538738b07e2",
   "metadata": {},
   "outputs": [],
   "source": [
    "from lib_layered_config import default_env_prefix\n",
    "\n",
    "default_env_prefix(\"demo-config\")"
   ]
  },
  {
   "cell_type": "markdown",
   "id": "72eea5119410473aa328ad9291626812",
   "metadata": {},
   "source": [
    "## Generate example files Windows\n",
    "\n",
    "The `examples` module scaffolds commented configuration files for each layer. They are never overwritten unless you pass `force=True`."
   ]
  },
  {
   "cell_type": "code",
   "execution_count": null,
   "id": "8edb47106e1a46a883d545849b8ab81b",
   "metadata": {},
   "outputs": [],
   "source": [
    "from lib_layered_config.examples.generate import generate_examples\n",
    "from pathlib import Path\n",
    "import tempfile\n",
    "\n",
    "root = Path(tempfile.mkdtemp())\n",
    "written = generate_examples(root, slug=\"demo-config\", vendor=\"Acme\", app=\"ConfigKit\", platform=\"windows\")\n",
    "[w.relative_to(root) for w in written]"
   ]
  },
  {
   "cell_type": "markdown",
   "id": "10185d26023b46108eb7d9f57d49d2b3",
   "metadata": {},
   "source": [
    "## Generate example files POSIX\n",
    "\n",
    "The `examples` module scaffolds commented configuration files for each layer. They are never overwritten unless you pass `force=True`."
   ]
  },
  {
   "cell_type": "code",
   "execution_count": null,
   "id": "8763a12b2bbd4a93a75aff182afb95dc",
   "metadata": {},
   "outputs": [],
   "source": [
    "from lib_layered_config.examples.generate import generate_examples\n",
    "from pathlib import Path\n",
    "import tempfile\n",
    "\n",
    "root = Path(tempfile.mkdtemp())\n",
    "written = generate_examples(root, slug=\"demo-config\", vendor=\"Acme\", app=\"ConfigKit\", platform=\"posix\")\n",
    "[w.relative_to(root) for w in written]"
   ]
  },
  {
   "cell_type": "markdown",
   "id": "7623eae2785240b9bd12b16a66d81610",
   "metadata": {},
   "source": [
    "## Merge all layers\n",
    "\n",
    "Create temporary application/user files, a `.env`, and an environment variable to demonstrate precedence."
   ]
  },
  {
   "cell_type": "code",
   "execution_count": null,
   "id": "7cdc8c89c7104fffa095e18ddfef8986",
   "metadata": {},
   "outputs": [],
   "source": [
    "from lib_layered_config import read_config, default_env_prefix\n",
    "from pathlib import Path\n",
    "import tempfile, os\n",
    "\n",
    "workdir = Path(tempfile.mkdtemp())\n",
    "etc_root = workdir / \"etc\" / \"demo-config\"\n",
    "user_root = workdir / \"xdg\" / \"demo-config\"\n",
    "\n",
    "etc_root.mkdir(parents=True)\n",
    "(user_root / \"config.d\").mkdir(parents=True)\n",
    "\n",
    "(etc_root / \"config.toml\").write_text(\n",
    "    \"\"\"[service]\n",
    "endpoint = \"https://api.example.com\"\n",
    "\"\"\",\n",
    "    encoding=\"utf-8\",\n",
    ")\n",
    "(user_root / \"config.toml\").write_text(\n",
    "    \"\"\"[service]\n",
    "timeout = 15\n",
    "\"\"\",\n",
    "    encoding=\"utf-8\",\n",
    ")\n",
    "(user_root / \".env\").write_text(\n",
    "    \"\"\"SERVICE__TIMEOUT=20\n",
    "\"\"\",\n",
    "    encoding=\"utf-8\",\n",
    ")\n",
    "\n",
    "slug = \"demo-config\"\n",
    "prefix = default_env_prefix(slug)\n",
    "os.environ[\"LIB_LAYERED_CONFIG_ETC\"] = str(workdir / \"etc\")\n",
    "os.environ[\"XDG_CONFIG_HOME\"] = str(workdir / \"xdg\")\n",
    "os.environ[f\"{prefix}_SERVICE__TIMEOUT\"] = \"25\"\n",
    "\n",
    "config = read_config(vendor=\"Acme\", app=\"ConfigKit\", slug=slug, start_dir=str(user_root))\n",
    "config.as_dict()"
   ]
  },
  {
   "cell_type": "markdown",
   "id": "b118ea5561624da68c537baed56e602f",
   "metadata": {},
   "source": [
    "# lib_layered_config Demo\n",
    "Deploys configuration files, reads the merged result, and exercises the CLI."
   ]
  },
  {
   "cell_type": "code",
   "execution_count": null,
   "id": "433fa399",
   "metadata": {},
   "outputs": [],
   "source": []
  },
  {
   "cell_type": "code",
   "execution_count": null,
   "id": "938c804e27f84196a10c8828c723f798",
   "metadata": {},
   "outputs": [],
   "source": [
    "from pathlib import Path\n",
    "from tempfile import TemporaryDirectory\n",
    "import os\n",
    "import json\n",
    "from lib_layered_config import read_config, default_env_prefix, deploy_config, i_should_fail\n",
    "from lib_layered_config.examples import deploy_config as deploy_helper"
   ]
  },
  {
   "cell_type": "code",
   "execution_count": null,
   "id": "504fb2a444614c0babb325280ed9130a",
   "metadata": {},
   "outputs": [],
   "source": [
    "tmp = TemporaryDirectory()\n",
    "base = Path(tmp.name)\n",
    "source = base / \"base.toml\"\n",
    "source.write_text('[service]\\nendpoint = \"https://api.example.com\"\\n', encoding=\"utf-8\")\n",
    "etc_root = base / \"etc\"\n",
    "xdg_root = base / \"xdg\"\n",
    "paths = deploy_helper(source, vendor=\"Acme\", app=\"Demo\", targets=[\"app\", \"user\"], slug=\"demo\")\n",
    "paths"
   ]
  },
  {
   "cell_type": "code",
   "execution_count": null,
   "id": "59bbdb311c014d738909a11f9e486628",
   "metadata": {},
   "outputs": [],
   "source": [
    "env_backup = {k: os.environ.get(k) for k in [\"LIB_LAYERED_CONFIG_ETC\", \"XDG_CONFIG_HOME\"]}\n",
    "os.environ[\"LIB_LAYERED_CONFIG_ETC\"] = str(etc_root)\n",
    "os.environ[\"XDG_CONFIG_HOME\"] = str(xdg_root)\n",
    "cfg = read_config(vendor=\"Acme\", app=\"Demo\", slug=\"demo\")\n",
    "endpoint = cfg.get(\"service.endpoint\")\n",
    "endpoint"
   ]
  },
  {
   "cell_type": "code",
   "execution_count": null,
   "id": "b43b363d81ae4b689946ece5c682cd59",
   "metadata": {},
   "outputs": [],
   "source": [
    "import subprocess\n",
    "\n",
    "cmd = [\n",
    "    \"python\",\n",
    "    \"-m\",\n",
    "    \"lib_layered_config\",\n",
    "    \"read\",\n",
    "    \"--vendor\",\n",
    "    \"Acme\",\n",
    "    \"--app\",\n",
    "    \"Demo\",\n",
    "    \"--slug\",\n",
    "    \"demo\",\n",
    "    \"--provenance\",\n",
    "]\n",
    "result = subprocess.run(cmd, capture_output=True, text=True, env={**os.environ})\n",
    "result.stdout"
   ]
  },
  {
   "cell_type": "code",
   "execution_count": null,
   "id": "8a65eabff63a45729fe45fb5ade58bdc",
   "metadata": {},
   "outputs": [],
   "source": [
    "fail_result = subprocess.run([\"python\", \"-m\", \"lib_layered_config\", \"fail\"], capture_output=True, text=True)\n",
    "fail_result.stdout, fail_result.stderr"
   ]
  },
  {
   "cell_type": "code",
   "execution_count": null,
   "id": "c3933fab20d04ec698c2621248eb3be0",
   "metadata": {},
   "outputs": [],
   "source": [
    "fail_trace = subprocess.run(\n",
    "    [\"python\", \"-m\", \"lib_layered_config\", \"--traceback\", \"fail\"], capture_output=True, text=True\n",
    ")\n",
    "fail_trace.stderr"
   ]
  },
  {
   "cell_type": "code",
   "execution_count": null,
   "id": "4dd4641cc4064e0191573fe9c69df29b",
   "metadata": {},
   "outputs": [],
   "source": [
    "for key, value in env_backup.items():\n",
    "    if value is None:\n",
    "        os.environ.pop(key, None)\n",
    "    else:\n",
    "        os.environ[key] = value\n",
    "tmp.cleanup()"
   ]
  }
 ],
 "metadata": {
  "kernelspec": {
   "display_name": "Python 3",
   "language": "python",
   "name": "python3"
  },
  "language_info": {
   "name": "python",
   "version": "3.12"
  }
 },
 "nbformat": 4,
 "nbformat_minor": 5
}
