{
 "cells": [
  {
   "cell_type": "markdown",
   "id": "intro",
   "metadata": {},
   "source": [
    "# lib_layered_config Quickstart\n",
    "\n",
    "Install the package (from PyPI or GitHub), then try the CLI and API examples below."
   ]
  },
  {
   "cell_type": "markdown",
   "id": "github-title",
   "metadata": {},
   "source": [
    "## 1) Install latest from GitHub (default)"
   ]
  },
  {
   "cell_type": "code",
   "execution_count": null,
   "id": "github-install",
   "metadata": {},
   "outputs": [],
   "source": [
    "# update pip and setuptools\n",
    "import sys\n",
    "\n",
    "!{sys.executable} -m pip install --upgrade pip\n",
    "!{sys.executable} -m pip install --upgrade setuptools\n",
    "\n",
    "# install lib_layered_config from GitHub (default)\n",
    "!{sys.executable} -m pip install --upgrade git+https://github.com/bitranox/lib_layered_config.git"
   ]
  },
  {
   "cell_type": "markdown",
   "id": "pypi-title",
   "metadata": {},
   "source": [
    "## Or: Install from PyPI (alternative)\n",
    "Uncomment and run the cell below if you prefer the PyPI release."
   ]
  },
  {
   "cell_type": "code",
   "execution_count": null,
   "id": "pypi-install",
   "metadata": {},
   "outputs": [],
   "source": [
    "# !{sys.executable} -m pip install --upgrade lib_layered_config\n"
   ]
  },
  {
   "cell_type": "markdown",
   "id": "cli-title",
   "metadata": {},
   "source": [
    "## 2) CLI: version and help"
   ]
  },
  {
   "cell_type": "code",
   "execution_count": null,
   "id": "cli-code",
   "metadata": {},
   "outputs": [],
   "source": [
    "!lib_layered_config --version\n",
    "!lib_layered_config --help\n",
    "!lib_layered_config info\n",
    "!lib_layered_config hello\n",
    "!lib_layered_config fail"
   ]
  },
  {
   "cell_type": "markdown",
   "id": "cli-fail-no-traceback-title",
   "metadata": {},
   "source": [
    "## 3) CLI fail without traceback"
   ]
  },
  {
   "cell_type": "code",
   "execution_count": null,
   "id": "cli-fail-no-traceback-code",
   "metadata": {},
   "outputs": [],
   "source": [
    "!lib_layered_config fail"
   ]
  },
  {
   "cell_type": "markdown",
   "id": "cli-fail-with-traceback-title",
   "metadata": {},
   "source": [
    "## 3) CLI fail with traceback"
   ]
  },
  {
   "cell_type": "code",
   "execution_count": null,
   "id": "cli-fail-with-traceback-code",
   "metadata": {},
   "outputs": [],
   "source": [
    "!lib_layered_config --traceback fail"
   ]
  },
{
   "cell_type": "markdown",
   "id": "script-fail-no-traceback-title",
   "metadata": {},
   "source": [
    "## 4) script fail without traceback"
   ]
  },
  {
   "cell_type": "code",
   "execution_count": null,
   "id": "script-fail-no-traceback-code",
   "metadata": {},
   "outputs": [],
   "source": [
    "!{sys.executable} -m lib_layered_config fail"
   ]
  },
  {
   "cell_type": "markdown",
   "id": "script-fail-with-traceback-title",
   "metadata": {},
   "source": [
    "## 5) script fail with traceback"
   ]
  },
  {
   "cell_type": "code",
   "execution_count": null,
   "id": "script-fail-with-traceback-code",
   "metadata": {},
   "outputs": [],
   "source": [
    "!{sys.executable} -m lib_layered_config --traceback fail"
   ]
  }
 ],
 "metadata": {
  "kernelspec": {
   "display_name": "Python 3",
   "language": "python",
   "name": "python3"
  },
  "language_info": {
   "name": "python",
   "version": "3"
  }
 },
 "nbformat": 4,
 "nbformat_minor": 5
}
